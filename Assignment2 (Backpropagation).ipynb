{
 "cells": [
  {
   "cell_type": "code",
   "execution_count": 1,
   "id": "97ceae73",
   "metadata": {},
   "outputs": [],
   "source": [
    "import numpy as np"
   ]
  },
  {
   "cell_type": "code",
   "execution_count": 2,
   "id": "4c486730",
   "metadata": {},
   "outputs": [],
   "source": [
    "# Inputs\n",
    "i1, i2 = 0.05, 0.10\n",
    "\n",
    "# Weights\n",
    "w1, w3, w2, w4 = 0.15, 0.20, 0.25, 0.30\n",
    "w5, w7, w6, w8 = 0.40, 0.45, 0.50, 0.55\n",
    "\n",
    "# Biases\n",
    "b1 = 0.35\n",
    "b2 = 0.60\n",
    "\n",
    "# Target\n",
    "target_o1, target_o2 = 0.01, 0.99\n",
    "\n",
    "# lr\n",
    "eta = 0.5"
   ]
  },
  {
   "cell_type": "code",
   "execution_count": 3,
   "id": "4960619a",
   "metadata": {},
   "outputs": [],
   "source": [
    "# activation function\n",
    "def sigmoid(z):\n",
    "    return 1 / (1 + np.exp(-z))\n",
    "\n",
    "def sigmoid_derivative(z):\n",
    "    return z * (1 - z)"
   ]
  },
  {
   "cell_type": "code",
   "execution_count": 4,
   "id": "30ada9c8",
   "metadata": {},
   "outputs": [],
   "source": [
    "# Forward calculation\n",
    "net_h1 = i1 * w1 + i2 * w3 + b1\n",
    "net_h2 = i1 * w2 + i2 * w4 + b1  \n",
    "\n",
    "out_h1 = sigmoid(net_h1)\n",
    "out_h2 = sigmoid(net_h2)\n",
    "\n",
    "net_o1 = out_h1 * w5 + out_h2 * w7 + b2\n",
    "net_o2 = out_h1 * w6 + out_h2 * w8 + b2  \n",
    "\n",
    "out_o1 = sigmoid(net_o1)\n",
    "out_o2 = sigmoid(net_o2)"
   ]
  },
  {
   "cell_type": "code",
   "execution_count": 5,
   "id": "b4be002f",
   "metadata": {},
   "outputs": [],
   "source": [
    "# Calculat O1 and O2 Error\n",
    "Eo1 = 0.5 * (target_o1 - out_o1)**2\n",
    "Eo2 = 0.5 * (target_o2 - out_o2)**2"
   ]
  },
  {
   "cell_type": "code",
   "execution_count": 6,
   "id": "dc7f4972",
   "metadata": {},
   "outputs": [
    {
     "name": "stdout",
     "output_type": "stream",
     "text": [
      "h1 net = 0.3775\n",
      "h1 out = 0.5933\n",
      "h2 net = 0.3925\n",
      "h2 out = 0.5969\n",
      "o1 net = 1.1059\n",
      "o1 out = 0.7514\n",
      "o2 net = 1.2249\n",
      "o2 out = 0.7729\n"
     ]
    }
   ],
   "source": [
    "# Results\n",
    "print(f\"h1 net = {net_h1:.4f}\")\n",
    "print(f\"h1 out = {out_h1:.4f}\")\n",
    "print(f\"h2 net = {net_h2:.4f}\")\n",
    "print(f\"h2 out = {out_h2:.4f}\")\n",
    "print(f\"o1 net = {net_o1:.4f}\")\n",
    "print(f\"o1 out = {out_o1:.4f}\")\n",
    "print(f\"o2 net = {net_o2:.4f}\")\n",
    "print(f\"o2 out = {out_o2:.4f}\")"
   ]
  },
  {
   "cell_type": "markdown",
   "id": "59a753da",
   "metadata": {},
   "source": [
    "# Backpropagation"
   ]
  },
  {
   "cell_type": "code",
   "execution_count": 11,
   "id": "8a98a1c1",
   "metadata": {},
   "outputs": [],
   "source": [
    "error_output1 = out_o1 - target_o1\n",
    "error_output2 = out_o2 - target_o2\n",
    "\n",
    "output1_derivative = sigmoid_derivative(out_o1)\n",
    "output2_derivative = sigmoid_derivative(out_o2)\n",
    "\n",
    "error_net_output1 = error_output1 * output1_derivative\n",
    "error_net_output2 = error_output2 * output2_derivative"
   ]
  },
  {
   "cell_type": "code",
   "execution_count": 12,
   "id": "3eec6c74",
   "metadata": {},
   "outputs": [],
   "source": [
    "# Output Layer Errors\n",
    "grad_w5 = error_net_output1 * out_h1\n",
    "grad_w7 = error_net_output1 * out_h2\n",
    "\n",
    "grad_w6 = error_net_output2 * out_h1\n",
    "grad_w8 = error_net_output2 * out_h2\n",
    "\n",
    "# Hidden Layer Errors\n",
    "error_hidden1_from_output1 = error_net_output1 * w5\n",
    "error_hidden2_from_output1 = error_net_output1 * w7\n",
    "error_hidden1_from_output2 = error_net_output2 * w6\n",
    "error_hidden2_from_output2 = error_net_output2 * w8\n",
    "\n",
    "error_total_hidden1 = error_hidden1_from_output1 + error_hidden1_from_output2\n",
    "error_total_hidden2 = error_hidden2_from_output1 + error_hidden2_from_output2\n",
    "\n",
    "hidden1_derivative = sigmoid_derivative(out_h1)\n",
    "hidden2_derivative = sigmoid_derivative(out_h2)\n",
    "\n",
    "error_total_net_hidden1 = error_total_hidden1 * hidden1_derivative\n",
    "error_total_net_hidden2 = error_total_hidden2 * hidden2_derivative"
   ]
  },
  {
   "cell_type": "code",
   "execution_count": 13,
   "id": "e25466ad",
   "metadata": {},
   "outputs": [],
   "source": [
    "# Gradients\n",
    "grad_w1 = error_total_net_hidden1 * i1\n",
    "grad_w2 = error_total_net_hidden2 * i1\n",
    "grad_w3 = error_total_net_hidden1 * i2\n",
    "grad_w4 = error_total_net_hidden2 * i2\n",
    "\n",
    "# Update Weights\n",
    "w1 -= eta * grad_w1\n",
    "w2 -= eta * grad_w2\n",
    "w3 -= eta * grad_w3\n",
    "w4 -= eta * grad_w4\n",
    "\n",
    "w5 -= eta * grad_w5\n",
    "w6 -= eta * grad_w6\n",
    "w7 -= eta * grad_w7\n",
    "w8 -= eta * grad_w8"
   ]
  },
  {
   "cell_type": "code",
   "execution_count": 14,
   "id": "9242af6f",
   "metadata": {},
   "outputs": [
    {
     "name": "stdout",
     "output_type": "stream",
     "text": [
      "\n",
      "Updated Weights :\n",
      "w1 = 0.1496\n",
      "w2 = 0.2495\n",
      "w3 = 0.1992\n",
      "w4 = 0.2991\n",
      "w5 = 0.3178\n",
      "w6 = 0.5226\n",
      "w7 = 0.3673\n",
      "w8 = 0.5727\n"
     ]
    }
   ],
   "source": [
    "# Print the new Weights\n",
    "print(\"\\nUpdated Weights :\")\n",
    "print(f\"w1 = {w1:.4f}\")\n",
    "print(f\"w2 = {w2:.4f}\")\n",
    "print(f\"w3 = {w3:.4f}\")\n",
    "print(f\"w4 = {w4:.4f}\")\n",
    "print(f\"w5 = {w5:.4f}\")\n",
    "print(f\"w6 = {w6:.4f}\")\n",
    "print(f\"w7 = {w7:.4f}\")\n",
    "print(f\"w8 = {w8:.4f}\")"
   ]
  },
  {
   "cell_type": "code",
   "execution_count": null,
   "id": "466afe84",
   "metadata": {},
   "outputs": [],
   "source": []
  }
 ],
 "metadata": {
  "kernelspec": {
   "display_name": "Python 3 (ipykernel)",
   "language": "python",
   "name": "python3"
  },
  "language_info": {
   "codemirror_mode": {
    "name": "ipython",
    "version": 3
   },
   "file_extension": ".py",
   "mimetype": "text/x-python",
   "name": "python",
   "nbconvert_exporter": "python",
   "pygments_lexer": "ipython3",
   "version": "3.11.5"
  }
 },
 "nbformat": 4,
 "nbformat_minor": 5
}
