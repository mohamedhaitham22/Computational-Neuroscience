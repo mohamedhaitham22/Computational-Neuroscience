{
 "cells": [
  {
   "cell_type": "code",
   "execution_count": 1,
   "id": "ff3a20c7",
   "metadata": {},
   "outputs": [],
   "source": [
    "import numpy as np"
   ]
  },
  {
   "cell_type": "code",
   "execution_count": 2,
   "id": "625d0e6e",
   "metadata": {},
   "outputs": [],
   "source": [
    "# Inputs\n",
    "i1, i2 = 0.05, 0.10\n",
    "\n",
    "# Weights\n",
    "w1, w3, w2, w4 = 0.15, 0.20, 0.25, 0.30\n",
    "w5, w7, w6, w8 = 0.40, 0.45, 0.50, 0.55\n",
    "\n",
    "# Biases\n",
    "b1 = 0.35\n",
    "b2 = 0.60\n",
    "\n",
    "# Target\n",
    "target_o1, target_o2 = 0.01, 0.99\n",
    "\n",
    "# lr\n",
    "eta = 0.5"
   ]
  },
  {
   "cell_type": "code",
   "execution_count": 3,
   "id": "f0f30dc0",
   "metadata": {},
   "outputs": [],
   "source": [
    "# activation function\n",
    "def sigmoid(z):\n",
    "    return 1 / (1 + np.exp(-z))\n",
    "\n",
    "def sigmoid_derivative(z):\n",
    "    return z * (1 - z)"
   ]
  },
  {
   "cell_type": "code",
   "execution_count": 4,
   "id": "4d05e561",
   "metadata": {},
   "outputs": [],
   "source": [
    "# Forward calculation\n",
    "net_h1 = i1 * w1 + i2 * w3 + b1\n",
    "net_h2 = i1 * w2 + i2 * w4 + b1  \n",
    "\n",
    "out_h1 = sigmoid(net_h1)\n",
    "out_h2 = sigmoid(net_h2)\n",
    "\n",
    "net_o1 = out_h1 * w5 + out_h2 * w7 + b2\n",
    "net_o2 = out_h1 * w6 + out_h2 * w8 + b2  \n",
    "\n",
    "out_o1 = sigmoid(net_o1)\n",
    "out_o2 = sigmoid(net_o2)"
   ]
  },
  {
   "cell_type": "code",
   "execution_count": 5,
   "id": "5ddbe34b",
   "metadata": {},
   "outputs": [],
   "source": [
    "# Calculat O1 and O2 Error\n",
    "Eo1 = 0.5 * (target_o1 - out_o1)**2\n",
    "Eo2 = 0.5 * (target_o2 - out_o2)**2"
   ]
  },
  {
   "cell_type": "code",
   "execution_count": 6,
   "id": "54815d87",
   "metadata": {},
   "outputs": [
    {
     "name": "stdout",
     "output_type": "stream",
     "text": [
      "h1 net = 0.3775\n",
      "h1 out = 0.5933\n",
      "h2 net = 0.3925\n",
      "h2 out = 0.5969\n",
      "o1 net = 1.1059\n",
      "o1 out = 0.7514\n",
      "o2 net = 1.2249\n",
      "o2 out = 0.7729\n"
     ]
    }
   ],
   "source": [
    "# Results\n",
    "print(f\"h1 net = {net_h1:.4f}\")\n",
    "print(f\"h1 out = {out_h1:.4f}\")\n",
    "print(f\"h2 net = {net_h2:.4f}\")\n",
    "print(f\"h2 out = {out_h2:.4f}\")\n",
    "print(f\"o1 net = {net_o1:.4f}\")\n",
    "print(f\"o1 out = {out_o1:.4f}\")\n",
    "print(f\"o2 net = {net_o2:.4f}\")\n",
    "print(f\"o2 out = {out_o2:.4f}\")"
   ]
  },
  {
   "cell_type": "markdown",
   "id": "480dbf5d",
   "metadata": {},
   "source": [
    "# Backpropagation"
   ]
  },
  {
   "cell_type": "code",
   "execution_count": 7,
   "id": "531f02d2",
   "metadata": {},
   "outputs": [],
   "source": [
    "dEo1_douto1 = out_o1 - target_o1\n",
    "dEo2_douto2 = out_o2 - target_o2\n",
    "\n",
    "douto1_dneto1 = sigmoid_derivative(out_o1)\n",
    "douto2_dneto2 = sigmoid_derivative(out_o2)\n",
    "\n",
    "dEo1_dneto1 = dEo1_douto1 * douto1_dneto1\n",
    "dEo2_dneto2 = dEo2_douto2 * douto2_dneto2"
   ]
  },
  {
   "cell_type": "code",
   "execution_count": 8,
   "id": "c4607c37",
   "metadata": {},
   "outputs": [],
   "source": [
    "# E output\n",
    "dEo1_dw5 = dEo1_dneto1 * out_h1\n",
    "dEo1_dw7 = dEo1_dneto1 * out_h2\n",
    "\n",
    "dEo2_dw6 = dEo2_dneto2 * out_h1\n",
    "dEo2_dw8 = dEo2_dneto2 * out_h2\n",
    "\n",
    "# E Hidden Layers\n",
    "dEo1_douth1 = dEo1_dneto1 * w5\n",
    "dEo1_douth2 = dEo1_dneto1 * w7\n",
    "dEo2_douth1 = dEo2_dneto2 * w6\n",
    "dEo2_douth2 = dEo2_dneto2 * w8\n",
    "\n",
    "dEtotal_douth1 = dEo1_douth1 + dEo2_douth1\n",
    "dEtotal_douth2 = dEo1_douth2 + dEo2_douth2\n",
    "\n",
    "douth1_dneth1 = sigmoid_derivative(out_h1)\n",
    "douth2_dneth2 = sigmoid_derivative(out_h2)\n",
    "\n",
    "dEtotal_dneth1 = dEtotal_douth1 * douth1_dneth1\n",
    "dEtotal_dneth2 = dEtotal_douth2 * douth2_dneth2"
   ]
  },
  {
   "cell_type": "code",
   "execution_count": 9,
   "id": "13a26059",
   "metadata": {},
   "outputs": [],
   "source": [
    "# Gradients\n",
    "dEtotal_dw1 = dEtotal_dneth1 * i1\n",
    "dEtotal_dw2 = dEtotal_dneth2 * i1\n",
    "dEtotal_dw3 = dEtotal_dneth1 * i2\n",
    "dEtotal_dw4 = dEtotal_dneth2 * i2\n",
    "\n",
    "w1 -= eta * dEtotal_dw1\n",
    "w2 -= eta * dEtotal_dw2\n",
    "w3 -= eta * dEtotal_dw3\n",
    "w4 -= eta * dEtotal_dw4\n",
    "\n",
    "w5 -= eta * dEo1_dw5\n",
    "w6 -= eta * dEo2_dw6\n",
    "w7 -= eta * dEo1_dw7\n",
    "w8 -= eta * dEo2_dw8"
   ]
  },
  {
   "cell_type": "code",
   "execution_count": 10,
   "id": "dd808560",
   "metadata": {},
   "outputs": [
    {
     "name": "stdout",
     "output_type": "stream",
     "text": [
      "\n",
      "Updated Weights :\n",
      "w1 = 0.1498\n",
      "w2 = 0.2498\n",
      "w3 = 0.1996\n",
      "w4 = 0.2995\n",
      "w5 = 0.3589\n",
      "w6 = 0.5113\n",
      "w7 = 0.4087\n",
      "w8 = 0.5614\n"
     ]
    }
   ],
   "source": [
    "# Print the new Weights\n",
    "print(\"\\nUpdated Weights :\")\n",
    "print(f\"w1 = {w1:.4f}\")\n",
    "print(f\"w2 = {w2:.4f}\")\n",
    "print(f\"w3 = {w3:.4f}\")\n",
    "print(f\"w4 = {w4:.4f}\")\n",
    "print(f\"w5 = {w5:.4f}\")\n",
    "print(f\"w6 = {w6:.4f}\")\n",
    "print(f\"w7 = {w7:.4f}\")\n",
    "print(f\"w8 = {w8:.4f}\")"
   ]
  },
  {
   "cell_type": "code",
   "execution_count": null,
   "id": "01bdd012",
   "metadata": {},
   "outputs": [],
   "source": []
  }
 ],
 "metadata": {
  "kernelspec": {
   "display_name": "Python 3 (ipykernel)",
   "language": "python",
   "name": "python3"
  },
  "language_info": {
   "codemirror_mode": {
    "name": "ipython",
    "version": 3
   },
   "file_extension": ".py",
   "mimetype": "text/x-python",
   "name": "python",
   "nbconvert_exporter": "python",
   "pygments_lexer": "ipython3",
   "version": "3.11.5"
  }
 },
 "nbformat": 4,
 "nbformat_minor": 5
}
