{
 "cells": [
  {
   "cell_type": "code",
   "execution_count": 1,
   "id": "93548171",
   "metadata": {},
   "outputs": [],
   "source": [
    "import numpy as np\n",
    "import matplotlib.pyplot as plt"
   ]
  },
  {
   "cell_type": "markdown",
   "id": "e210226f",
   "metadata": {},
   "source": [
    "# Data preparation helpers"
   ]
  },
  {
   "cell_type": "code",
   "execution_count": 2,
   "id": "9194d39a",
   "metadata": {},
   "outputs": [],
   "source": [
    "def create_vocab(text):\n",
    "    chars = sorted(set(text))\n",
    "    char_to_ix = { ch:i for i,ch in enumerate(chars) }\n",
    "    ix_to_char = { i:ch for i,ch in enumerate(chars) }\n",
    "    return char_to_ix, ix_to_char\n",
    "\n",
    "def one_hot_encode(index, vocab_size):\n",
    "    vec = np.zeros((vocab_size, 1))\n",
    "    vec[index] = 1\n",
    "    return vec"
   ]
  },
  {
   "cell_type": "markdown",
   "id": "4b6d8162",
   "metadata": {},
   "source": [
    "# Activation functions and loss "
   ]
  },
  {
   "cell_type": "code",
   "execution_count": 7,
   "id": "68006fee",
   "metadata": {},
   "outputs": [],
   "source": [
    "def softmax(x):\n",
    "    e_x = np.exp(x - np.max(x))\n",
    "    return e_x / e_x.sum(axis=0)\n",
    "\n",
    "def cross_entropy(y_pred, y_true):\n",
    "    return -np.log(y_pred[y_true, 0] + 1e-9)\n",
    "\n",
    "def d_cross_entropy(y_pred, y_true):\n",
    "    grad = y_pred.copy()\n",
    "    index = np.argmax(y_true)  \n",
    "    grad[index] -= 1\n",
    "    return grad\n"
   ]
  },
  {
   "cell_type": "markdown",
   "id": "ef7af152",
   "metadata": {},
   "source": [
    "# RNN class"
   ]
  },
  {
   "cell_type": "code",
   "execution_count": 8,
   "id": "91a99a39",
   "metadata": {},
   "outputs": [],
   "source": [
    "class CharRNN:\n",
    "    def __init__(self, input_size, hidden_size, output_size):\n",
    "        self.hidden_size = hidden_size\n",
    "        self.Wxh = np.random.randn(hidden_size, input_size) * 0.01\n",
    "        self.Whh = np.random.randn(hidden_size, hidden_size) * 0.01\n",
    "        self.Why = np.random.randn(output_size, hidden_size) * 0.01\n",
    "        self.bh = np.zeros((hidden_size, 1))\n",
    "        self.by = np.zeros((output_size, 1))\n",
    "\n",
    "    def forward(self, inputs):\n",
    "        self.inputs = inputs\n",
    "        self.hs = {}\n",
    "        h = np.zeros((self.hidden_size, 1))\n",
    "        self.hs[-1] = h\n",
    "        ys = []\n",
    "        \n",
    "        for t, x in enumerate(inputs):\n",
    "            h = np.tanh(np.dot(self.Wxh, x) + np.dot(self.Whh, h) + self.bh)\n",
    "            y = np.dot(self.Why, h) + self.by\n",
    "            ys.append(softmax(y))\n",
    "            self.hs[t] = h\n",
    "        return ys\n",
    "\n",
    "    def backward(self, targets, outputs, learning_rate=0.1):\n",
    "        dWxh = np.zeros_like(self.Wxh)\n",
    "        dWhh = np.zeros_like(self.Whh)\n",
    "        dWhy = np.zeros_like(self.Why)\n",
    "        dbh = np.zeros_like(self.bh)\n",
    "        dby = np.zeros_like(self.by)\n",
    "        dh_next = np.zeros((self.hidden_size, 1))\n",
    "\n",
    "        for t in reversed(range(len(self.inputs))):\n",
    "            dy = d_cross_entropy(outputs[t], targets[t])\n",
    "            dWhy += np.dot(dy, self.hs[t].T)\n",
    "            dby += dy\n",
    "\n",
    "            dh = np.dot(self.Why.T, dy) + dh_next\n",
    "            dh_raw = (1 - self.hs[t] ** 2) * dh\n",
    "            dbh += dh_raw\n",
    "            dWxh += np.dot(dh_raw, self.inputs[t].T)\n",
    "            dWhh += np.dot(dh_raw, self.hs[t-1].T)\n",
    "            dh_next = np.dot(self.Whh.T, dh_raw)\n",
    "\n",
    "        for d in [dWxh, dWhh, dWhy, dbh, dby]:\n",
    "            np.clip(d, -1, 1, out=d)\n",
    "\n",
    "        self.Wxh -= learning_rate * dWxh\n",
    "        self.Whh -= learning_rate * dWhh\n",
    "        self.Why -= learning_rate * dWhy\n",
    "        self.bh  -= learning_rate * dbh\n",
    "        self.by  -= learning_rate * dby"
   ]
  },
  {
   "cell_type": "markdown",
   "id": "2fbbd4f5",
   "metadata": {},
   "source": [
    "# Prepare the text data"
   ]
  },
  {
   "cell_type": "code",
   "execution_count": 9,
   "id": "dd71c348",
   "metadata": {},
   "outputs": [],
   "source": [
    "text = \"Delta University for Sience and Technology\"\n",
    "char_to_ix, ix_to_char = create_vocab(text)\n",
    "vocab_size = len(char_to_ix)\n",
    "\n",
    "X_data = []\n",
    "Y_data = []\n",
    "for i in range(len(text) - 1):\n",
    "    X_data.append(char_to_ix[text[i]])\n",
    "    Y_data.append(char_to_ix[text[i+1]])\n",
    "\n",
    "X_train = [one_hot_encode(i, vocab_size) for i in X_data]\n",
    "Y_train = [one_hot_encode(i, vocab_size) for i in Y_data]"
   ]
  },
  {
   "cell_type": "markdown",
   "id": "c8027e96",
   "metadata": {},
   "source": [
    "# RNN training"
   ]
  },
  {
   "cell_type": "code",
   "execution_count": 16,
   "id": "9ced62fb",
   "metadata": {},
   "outputs": [
    {
     "name": "stdout",
     "output_type": "stream",
     "text": [
      "Epoch 0, Loss: 3.0446\n",
      "Epoch 100, Loss: 0.0174\n",
      "Epoch 200, Loss: 0.0061\n",
      "Epoch 300, Loss: 0.0036\n",
      "Epoch 400, Loss: 0.0026\n",
      "Epoch 500, Loss: 0.0020\n",
      "Epoch 600, Loss: 0.0016\n",
      "Epoch 700, Loss: 0.0014\n",
      "Epoch 800, Loss: 0.0012\n",
      "Epoch 900, Loss: 0.0010\n",
      "Epoch 1000, Loss: 0.0009\n",
      "Epoch 1100, Loss: 0.0008\n",
      "Epoch 1200, Loss: 0.0008\n",
      "Epoch 1300, Loss: 0.0007\n",
      "Epoch 1400, Loss: 0.0006\n",
      "Epoch 1500, Loss: 0.0006\n",
      "Epoch 1600, Loss: 0.0006\n",
      "Epoch 1700, Loss: 0.0005\n",
      "Epoch 1800, Loss: 0.0005\n",
      "Epoch 1900, Loss: 0.0005\n"
     ]
    }
   ],
   "source": [
    "rnn = CharRNN(input_size=vocab_size, hidden_size=16, output_size=vocab_size)\n",
    "\n",
    "epochs = 2000\n",
    "losses = []\n",
    "\n",
    "for epoch in range(epochs):\n",
    "    outputs = rnn.forward(X_train)\n",
    "    loss = sum(cross_entropy(o, np.argmax(y)) for o, y in zip(outputs, Y_train)) / len(Y_train)\n",
    "    losses.append(loss)\n",
    "    \n",
    "    rnn.backward(Y_train, outputs, learning_rate=0.1)\n",
    "    \n",
    "    if epoch % 100 == 0:\n",
    "        print(f\"Epoch {epoch}, Loss: {loss:.4f}\")\n"
   ]
  },
  {
   "cell_type": "markdown",
   "id": "4536d977",
   "metadata": {},
   "source": [
    "# Generate text using the trained RNN"
   ]
  },
  {
   "cell_type": "code",
   "execution_count": 17,
   "id": "639ca354",
   "metadata": {},
   "outputs": [],
   "source": [
    "def generate_text(rnn, start_char, length, char_to_ix, ix_to_char):\n",
    "    idx = char_to_ix[start_char]\n",
    "    x = one_hot_encode(idx, vocab_size)\n",
    "    h = np.zeros((rnn.hidden_size, 1))\n",
    "    result = start_char\n",
    "\n",
    "    for _ in range(length):\n",
    "        h = np.tanh(np.dot(rnn.Wxh, x) + np.dot(rnn.Whh, h) + rnn.bh)\n",
    "        y = np.dot(rnn.Why, h) + rnn.by\n",
    "        p = softmax(y)\n",
    "        idx = np.random.choice(range(vocab_size), p=p.ravel())\n",
    "        x = one_hot_encode(idx, vocab_size)\n",
    "        result += ix_to_char[idx]\n",
    "    \n",
    "    return result\n"
   ]
  },
  {
   "cell_type": "markdown",
   "id": "6af15477",
   "metadata": {},
   "source": [
    "# Try to generate a text"
   ]
  },
  {
   "cell_type": "code",
   "execution_count": 20,
   "id": "a6e76a13",
   "metadata": {},
   "outputs": [
    {
     "name": "stdout",
     "output_type": "stream",
     "text": [
      "d Technology\n"
     ]
    }
   ],
   "source": [
    "print(generate_text(rnn, start_char='d', length=11, char_to_ix=char_to_ix, ix_to_char=ix_to_char))\n"
   ]
  },
  {
   "cell_type": "code",
   "execution_count": null,
   "id": "2db7aa39",
   "metadata": {},
   "outputs": [],
   "source": []
  }
 ],
 "metadata": {
  "kernelspec": {
   "display_name": "Python 3 (ipykernel)",
   "language": "python",
   "name": "python3"
  },
  "language_info": {
   "codemirror_mode": {
    "name": "ipython",
    "version": 3
   },
   "file_extension": ".py",
   "mimetype": "text/x-python",
   "name": "python",
   "nbconvert_exporter": "python",
   "pygments_lexer": "ipython3",
   "version": "3.11.5"
  }
 },
 "nbformat": 4,
 "nbformat_minor": 5
}
