{
 "cells": [
  {
   "cell_type": "code",
   "execution_count": 10,
   "id": "7d6ff12e",
   "metadata": {},
   "outputs": [],
   "source": [
    "import numpy as np"
   ]
  },
  {
   "cell_type": "markdown",
   "id": "55d53764",
   "metadata": {},
   "source": [
    "*Tanh activation function*"
   ]
  },
  {
   "cell_type": "code",
   "execution_count": 11,
   "id": "2265aa06",
   "metadata": {},
   "outputs": [],
   "source": [
    "def tanh(x):\n",
    "    return np.tanh(x)"
   ]
  },
  {
   "cell_type": "markdown",
   "id": "bfa11e4a",
   "metadata": {},
   "source": [
    "*Randomly initialize weights in the range [-0.5, 0.5]*"
   ]
  },
  {
   "cell_type": "code",
   "execution_count": 24,
   "id": "7243bf9a",
   "metadata": {},
   "outputs": [],
   "source": [
    "np.random.seed(42)\n",
    "w = np.random.uniform(-0.5, 0.5, 8)"
   ]
  },
  {
   "cell_type": "markdown",
   "id": "56cf41c3",
   "metadata": {},
   "source": [
    "*Bias values*"
   ]
  },
  {
   "cell_type": "code",
   "execution_count": 25,
   "id": "a6d76751",
   "metadata": {},
   "outputs": [],
   "source": [
    "b1 = 0.30\n",
    "b2 = 0.60"
   ]
  },
  {
   "cell_type": "markdown",
   "id": "5d058941",
   "metadata": {},
   "source": [
    "*Inputs*"
   ]
  },
  {
   "cell_type": "code",
   "execution_count": 26,
   "id": "b35b2bda",
   "metadata": {},
   "outputs": [],
   "source": [
    "i1 = 0.05\n",
    "i2 = 0.10"
   ]
  },
  {
   "cell_type": "markdown",
   "id": "b7b61a66",
   "metadata": {},
   "source": [
    "*Calculate hidden layer outputs*"
   ]
  },
  {
   "cell_type": "code",
   "execution_count": 27,
   "id": "82fac58f",
   "metadata": {},
   "outputs": [],
   "source": [
    "h1_input = i1 * w[0] + i2 * w[2] + b1\n",
    "h2_input = i1 * w[1] + i2 * w[3] + b1\n",
    "\n",
    "h1_output = tanh(h1_input)\n",
    "h2_output = tanh(h2_input)"
   ]
  },
  {
   "cell_type": "markdown",
   "id": "1c69d1bd",
   "metadata": {},
   "source": [
    "*Calculate output layer outputs*"
   ]
  },
  {
   "cell_type": "code",
   "execution_count": 28,
   "id": "c415b9f5",
   "metadata": {},
   "outputs": [],
   "source": [
    "o1_input = h1_output * w[4] + h2_output * w[6] + b2\n",
    "o2_input = h1_output * w[5] + h2_output * w[7] + b2\n",
    "\n",
    "o1_output = tanh(o1_input)\n",
    "o2_output = tanh(o2_input)"
   ]
  },
  {
   "cell_type": "markdown",
   "id": "c3752b1b",
   "metadata": {},
   "source": [
    "*Result*"
   ]
  },
  {
   "cell_type": "code",
   "execution_count": 29,
   "id": "85b0f1d4",
   "metadata": {},
   "outputs": [
    {
     "name": "stdout",
     "output_type": "stream",
     "text": [
      "Hidden layer outputs:\n",
      "h1: 0.30672511783401885\n",
      "h2: 0.32067703525736896\n",
      "\n",
      "Output layer outputs:\n",
      "o1: 0.33883854006260034\n",
      "o2: 0.5454696090433948\n"
     ]
    }
   ],
   "source": [
    "print(\"Hidden layer outputs:\")\n",
    "print(f\"h1: {h1_output}\")\n",
    "print(f\"h2: {h2_output}\")\n",
    "\n",
    "print(\"\\nOutput layer outputs:\")\n",
    "print(f\"o1: {o1_output}\")\n",
    "print(f\"o2: {o2_output}\")"
   ]
  },
  {
   "cell_type": "code",
   "execution_count": null,
   "id": "f4c60001",
   "metadata": {},
   "outputs": [],
   "source": []
  }
 ],
 "metadata": {
  "kernelspec": {
   "display_name": "Python 3 (ipykernel)",
   "language": "python",
   "name": "python3"
  },
  "language_info": {
   "codemirror_mode": {
    "name": "ipython",
    "version": 3
   },
   "file_extension": ".py",
   "mimetype": "text/x-python",
   "name": "python",
   "nbconvert_exporter": "python",
   "pygments_lexer": "ipython3",
   "version": "3.11.5"
  }
 },
 "nbformat": 4,
 "nbformat_minor": 5
}
