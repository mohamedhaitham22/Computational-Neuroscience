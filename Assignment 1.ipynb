{
 "cells": [
  {
   "cell_type": "code",
   "execution_count": 10,
   "id": "aac1011b",
   "metadata": {},
   "outputs": [],
   "source": [
    "import numpy as np"
   ]
  },
  {
   "cell_type": "markdown",
   "id": "c6039a13",
   "metadata": {},
   "source": [
    "*Tanh activation function*"
   ]
  },
  {
   "cell_type": "code",
   "execution_count": 11,
   "id": "581a162e",
   "metadata": {},
   "outputs": [],
   "source": [
    "def tanh(x):\n",
    "    return np.tanh(x)"
   ]
  },
  {
   "cell_type": "markdown",
   "id": "37d6bf79",
   "metadata": {},
   "source": [
    "*Randomly initialize weights in the range [-0.5, 0.5]*"
   ]
  },
  {
   "cell_type": "code",
   "execution_count": 30,
   "id": "63b74e11",
   "metadata": {},
   "outputs": [],
   "source": [
    "np.random.seed(42)\n",
    "w = np.random.uniform(-0.5, 0.5, 8)"
   ]
  },
  {
   "cell_type": "markdown",
   "id": "79c3de5f",
   "metadata": {},
   "source": [
    "*Bias values*"
   ]
  },
  {
   "cell_type": "code",
   "execution_count": 31,
   "id": "e3949c34",
   "metadata": {},
   "outputs": [],
   "source": [
    "b1 = 0.5\n",
    "b2 = 0.7"
   ]
  },
  {
   "cell_type": "markdown",
   "id": "5799f22b",
   "metadata": {},
   "source": [
    "*Inputs*"
   ]
  },
  {
   "cell_type": "code",
   "execution_count": 32,
   "id": "9682504d",
   "metadata": {},
   "outputs": [],
   "source": [
    "i1 = 0.05\n",
    "i2 = 0.10"
   ]
  },
  {
   "cell_type": "markdown",
   "id": "1b854df3",
   "metadata": {},
   "source": [
    "*Calculate hidden layer outputs*"
   ]
  },
  {
   "cell_type": "code",
   "execution_count": 33,
   "id": "8245dff5",
   "metadata": {},
   "outputs": [],
   "source": [
    "h1_input = i1 * w[0] + i2 * w[2] + b1\n",
    "h2_input = i1 * w[1] + i2 * w[3] + b1\n",
    "\n",
    "h1_output = tanh(h1_input)\n",
    "h2_output = tanh(h2_input)"
   ]
  },
  {
   "cell_type": "markdown",
   "id": "55bd4f5c",
   "metadata": {},
   "source": [
    "*Calculate output layer outputs*"
   ]
  },
  {
   "cell_type": "code",
   "execution_count": 34,
   "id": "27484cf6",
   "metadata": {},
   "outputs": [],
   "source": [
    "o1_input = h1_output * w[4] + h2_output * w[6] + b2\n",
    "o2_input = h1_output * w[5] + h2_output * w[7] + b2\n",
    "\n",
    "o1_output = tanh(o1_input)\n",
    "o2_output = tanh(o2_input)"
   ]
  },
  {
   "cell_type": "markdown",
   "id": "d7e5778d",
   "metadata": {},
   "source": [
    "*Result*"
   ]
  },
  {
   "cell_type": "code",
   "execution_count": 35,
   "id": "965e4236",
   "metadata": {},
   "outputs": [
    {
     "name": "stdout",
     "output_type": "stream",
     "text": [
      "Hidden layer outputs:\n",
      "h1: 0.4753243188387696\n",
      "h2: 0.4872147174733912\n",
      "\n",
      "Output layer outputs:\n",
      "o1: 0.31058173983520415\n",
      "o2: 0.6137354642661549\n"
     ]
    }
   ],
   "source": [
    "print(\"Hidden layer outputs:\")\n",
    "print(f\"h1: {h1_output}\")\n",
    "print(f\"h2: {h2_output}\")\n",
    "\n",
    "print(\"\\nOutput layer outputs:\")\n",
    "print(f\"o1: {o1_output}\")\n",
    "print(f\"o2: {o2_output}\")"
   ]
  },
  {
   "cell_type": "code",
   "execution_count": null,
   "id": "798b1e2f",
   "metadata": {},
   "outputs": [],
   "source": []
  }
 ],
 "metadata": {
  "kernelspec": {
   "display_name": "Python 3 (ipykernel)",
   "language": "python",
   "name": "python3"
  },
  "language_info": {
   "codemirror_mode": {
    "name": "ipython",
    "version": 3
   },
   "file_extension": ".py",
   "mimetype": "text/x-python",
   "name": "python",
   "nbconvert_exporter": "python",
   "pygments_lexer": "ipython3",
   "version": "3.11.5"
  }
 },
 "nbformat": 4,
 "nbformat_minor": 5
}
